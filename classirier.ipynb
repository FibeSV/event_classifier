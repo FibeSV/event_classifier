{
 "cells": [
  {
   "cell_type": "code",
   "execution_count": 7,
   "metadata": {},
   "outputs": [],
   "source": [
    "import numpy as np\n",
    "import os"
   ]
  },
  {
   "cell_type": "code",
   "execution_count": 98,
   "metadata": {},
   "outputs": [
    {
     "name": "stdout",
     "output_type": "stream",
     "text": [
      "(151, 20) (151, 20)\n",
      "(151,) (151,)\n"
     ]
    }
   ],
   "source": [
    "data = np.empty([0,20])\n",
    "target = np.empty(0)\n",
    "\n",
    "fold = \"data/\"\n",
    "for file in os.listdir(fold):\n",
    "    if file == \".ipynb_checkpoints\":\n",
    "        continue\n",
    "    elif file.split(\"__\")[1].split(\".\")[0] == \"mfcc\":\n",
    "        tempd = np.load(fold+file)\n",
    "        data = np.append(data, tempd, axis = 0)\n",
    "        print(data.shape,tempd.shape)\n",
    "    elif file.split(\"__\")[1].split(\".\")[0] == \"target\":    \n",
    "        tempt = np.load(fold+file)\n",
    "        target = np.append(target, tempt)\n",
    "        print(target.shape,tempt.shape)"
   ]
  },
  {
   "cell_type": "code",
   "execution_count": 101,
   "metadata": {},
   "outputs": [],
   "source": [
    "import sklearn\n",
    "from sklearn.model_selection import train_test_split  \n",
    "from sklearn.metrics import accuracy_score\n",
    "target = np.array(target, dtype= \"int\")\n",
    "test, train, target_test, target_train = train_test_split(data[:80,:], target[:80], train_size=0.3,shuffle = False)"
   ]
  },
  {
   "cell_type": "code",
   "execution_count": 102,
   "metadata": {},
   "outputs": [
    {
     "name": "stdout",
     "output_type": "stream",
     "text": [
      "Wall time: 0 ns\n"
     ]
    },
    {
     "data": {
      "text/plain": [
       "0.7083333333333334"
      ]
     },
     "execution_count": 102,
     "metadata": {},
     "output_type": "execute_result"
    }
   ],
   "source": [
    "%time\n",
    "from sklearn.neighbors import KNeighborsClassifier\n",
    "model = KNeighborsClassifier(n_neighbors= 20).fit(train,target_train)\n",
    "predict = model.predict(test)\n",
    "accuracy_score(predict,target_test)"
   ]
  },
  {
   "cell_type": "code",
   "execution_count": 103,
   "metadata": {},
   "outputs": [
    {
     "data": {
      "text/plain": [
       "0.625"
      ]
     },
     "execution_count": 103,
     "metadata": {},
     "output_type": "execute_result"
    }
   ],
   "source": [
    "from sklearn.ensemble import RandomForestClassifier\n",
    "model = RandomForestClassifier().fit(train,target_train)\n",
    "predict = model.predict(test)\n",
    "accuracy_score(predict,target_test)"
   ]
  },
  {
   "cell_type": "code",
   "execution_count": 86,
   "metadata": {},
   "outputs": [],
   "source": [
    "import keras\n",
    "from keras.models import Sequential\n",
    "from keras.layers import Dense, Dropout, Activation, Flatten,LSTM,TimeDistributed\n",
    "from keras.layers import Convolution2D, MaxPooling2D,MaxPooling1D,Conv1D\n",
    "from keras.optimizers import Adam,SGD\n",
    "from keras.utils import np_utils\n",
    "from sklearn import metrics\n",
    "import random\n",
    "from keras.callbacks import EarlyStopping, ModelCheckpoint\n",
    "from keras import optimizers\n",
    "import datetime"
   ]
  },
  {
   "cell_type": "code",
   "execution_count": 105,
   "metadata": {},
   "outputs": [],
   "source": [
    "model = Sequential()\n",
    "\n",
    "model.add(Dense(20))#, input_shape=(20,)))\n",
    "model.add(Activation('relu'))\n",
    "# model.add(Dropout(0.5))\n",
    "\n",
    "model.add(Dense(20))\n",
    "model.add(Activation('relu'))\n",
    "# model.add(Dropout(0.5))\n",
    "\n",
    "model.add(Dense(10))\n",
    "model.add(Activation('relu'))\n",
    "# model.add(Dropout(0.5))\n",
    "\n",
    "model.add(Dense(10))\n",
    "model.add(Activation('relu'))\n",
    "model.add(Dropout(0.5))\n",
    "\n",
    "model.add(Dense(1))\n",
    "model.add(Activation('softmax'))\n",
    "\n",
    "model.compile( loss =\"mean_squared_error\", metrics=['accuracy'], optimizer='adam')\n",
    "# model.summary()\n",
    "\n"
   ]
  },
  {
   "cell_type": "code",
   "execution_count": 106,
   "metadata": {},
   "outputs": [
    {
     "name": "stdout",
     "output_type": "stream",
     "text": [
      "Epoch 1/10\n",
      "56/56 [==============================] - 4s 69ms/step - loss: 0.5714 - acc: 0.4286\n",
      "Epoch 2/10\n",
      "56/56 [==============================] - 0s 3ms/step - loss: 0.5714 - acc: 0.4286\n",
      "Epoch 3/10\n",
      "56/56 [==============================] - 0s 2ms/step - loss: 0.5714 - acc: 0.4286\n",
      "Epoch 4/10\n",
      "56/56 [==============================] - 0s 3ms/step - loss: 0.5714 - acc: 0.4286\n",
      "Epoch 5/10\n",
      "56/56 [==============================] - 0s 1ms/step - loss: 0.5714 - acc: 0.4286\n",
      "Epoch 6/10\n",
      "56/56 [==============================] - 0s 2ms/step - loss: 0.5714 - acc: 0.4286\n",
      "Epoch 7/10\n",
      "56/56 [==============================] - 0s 2ms/step - loss: 0.5714 - acc: 0.4286\n",
      "Epoch 8/10\n",
      "56/56 [==============================] - 0s 2ms/step - loss: 0.5714 - acc: 0.4286\n",
      "Epoch 9/10\n",
      "56/56 [==============================] - 0s 1ms/step - loss: 0.5714 - acc: 0.4286\n",
      "Epoch 10/10\n",
      "56/56 [==============================] - 0s 2ms/step - loss: 0.5714 - acc: 0.4286\n"
     ]
    },
    {
     "data": {
      "text/plain": [
       "<keras.callbacks.History at 0x13d8a080>"
      ]
     },
     "execution_count": 106,
     "metadata": {},
     "output_type": "execute_result"
    }
   ],
   "source": [
    "model.fit(train, target_train, batch_size=10, epochs=10)"
   ]
  },
  {
   "cell_type": "code",
   "execution_count": 107,
   "metadata": {},
   "outputs": [
    {
     "data": {
      "text/plain": [
       "0.5"
      ]
     },
     "execution_count": 107,
     "metadata": {},
     "output_type": "execute_result"
    }
   ],
   "source": [
    "predict = model.predict(test)\n",
    "accuracy_score(predict,target_test)"
   ]
  }
 ],
 "metadata": {
  "kernelspec": {
   "display_name": "Python 3",
   "language": "python",
   "name": "python3"
  },
  "language_info": {
   "codemirror_mode": {
    "name": "ipython",
    "version": 3
   },
   "file_extension": ".py",
   "mimetype": "text/x-python",
   "name": "python",
   "nbconvert_exporter": "python",
   "pygments_lexer": "ipython3",
   "version": "3.7.3"
  }
 },
 "nbformat": 4,
 "nbformat_minor": 4
}
